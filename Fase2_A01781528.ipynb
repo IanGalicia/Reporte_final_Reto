{
 "cells": [
  {
   "cell_type": "markdown",
   "metadata": {
    "id": "RvKwH2dqf3Gt"
   },
   "source": [
    "# Fase 2 - Sistema dinámico SIR ampliado\n",
    "## Ian Galicia\n",
    "## Matricula: A01781528"
   ]
  },
  {
   "cell_type": "markdown",
   "metadata": {
    "id": "mD3pGq04f_x8"
   },
   "source": [
    "## El modelo SIR\n",
    "\n",
    "Consideremos un modelo para describir la dinámica de un grupo de individuos de una población con exposición a una enfermedad que puede contagiarse entre los miembros de la población. Esto puede modelarse como un sistema dinámico denominado $SIR$ para una población de $N$ individuos en la que se considera la interacción entre un conjunto de $S$ individuos *suceptibles* de contraer la enfermedad, un conjunto $I$ de individuos *infectados* y uno conjunto $R$ de individuos *recuperados* de la enfermedad.\n",
    "\n",
    "Este modelo tiene los siguientes supuestos:\n",
    "\n",
    "* la probabilidades de infectarse son iguales para todos los individuos de la población;\n",
    "\n",
    "* la población es homogénea, es decir que los riesgos de infectarse son iguales para todos los suceptibles y que los tiempos para recuperarse son iguales para todos los infectados; y\n",
    "\n",
    "* el tamaño $N$ de la población es constante.\n",
    "\n",
    "El modelo maneja los diferentes conjuntos $S$, $I$ y $R$ como si fueran compartimentos bien separados y considera que los individuos pueden pasar de uno a otro en el caso de que se enfermen (cambio $S\\rightarrow I$) o que una vez enfermos se recuperen (cambio $I\\rightarrow R$). Ademas, se asume que un individuo no puede pasar del conjunto de suceptibles directamente al conjunto de recuperados.\n",
    "\n",
    "Con estos supuestos y consideraciones, las ecuaciones diferenciales del modelo SIR son:\n",
    "\n",
    "\\begin{aligned}\n",
    "\\frac{dS}{dt}&= -\\beta \\frac{I}{N} S\\\\\n",
    "\\frac{dI}{dt}&= \\beta\\frac{I}{N}S-\\gamma I\\\\\\\n",
    "\\frac{dR}{dt}&= \\gamma I\n",
    "\\end{aligned}\n",
    "\n",
    "donde:\n",
    "\n",
    "* N=S+R+I\n",
    "\n",
    "* la cantidad $\\beta\\frac{I}{N}$ representa la razón con que las personas salen del compartimento S (se infectan);\n",
    "\n",
    "* en la primera ecuación $dS$ representa el cambio debido a las personas que salen del compartimento $S$ (el signo negativo se debe a que las personas salen)\n",
    "\n",
    "* en la segunda ecuación $dI$ representa el cambio debido a las personas que salen del compartimento $I$ (una parte se debe a las personas que del compartimento $S$ pasan al compartimento $I$, y otra parte se debe a las personas que salen del compartimento $I$ porque se recuperan);\n",
    "\n",
    "* la cantidad $\\gamma$ representa la razón con que las personas se recuperan.\n"
   ]
  },
  {
   "cell_type": "code",
   "execution_count": 1,
   "metadata": {
    "colab": {
     "base_uri": "https://localhost:8080/",
     "height": 290
    },
    "id": "dLB4uV0vgBDB",
    "outputId": "55048247-1518-4e87-d981-22ac4d64c6bd"
   },
   "outputs": [
    {
     "data": {
      "image/png": "[encoded data removed]",
      "text/plain": [
       "<Figure size 432x288 with 1 Axes>"
      ]
     },
     "metadata": {
      "needs_background": "light"
     },
     "output_type": "display_data"
    }
   ],
   "source": [
    "import numpy as np\n",
    "from scipy.integrate import odeint\n",
    "import matplotlib.pyplot as plt\n",
    "\n",
    "beta = 1\n",
    "gamma = 0.1\n",
    "#S = 999999\n",
    "#I= 1\n",
    "#R=0\n",
    "\n",
    "# function that returns dy/dt\n",
    "def model(y,t,beta,gamma):\n",
    "  \n",
    "  S, I, R = y\n",
    "  N = S+I+R \n",
    "  lamb = beta * I/N\n",
    "  dS = -lamb * S               \n",
    "  dI = lamb * S - gamma * I   \n",
    "  dR = gamma * I             \n",
    "  return dS,dI,dR\n",
    "\n",
    "# initial condition\n",
    "y0 =  np.array([999999, 1, 0])  #S=999999, I = 1, R=0 \n",
    "\n",
    "# time points\n",
    "t = np.linspace(0,60)\n",
    "\n",
    "# solve ODE\n",
    "y = odeint(model,y0,t,args=(beta, gamma))\n",
    "\n",
    "# plot results\n",
    "plt.plot(t,y.T[0],color='red')\n",
    "plt.plot(t,y.T[1],color='green')\n",
    "plt.plot(t,y.T[2],color='blue')\n",
    "\n",
    "plt.xlabel('time')\n",
    "plt.ylabel('y(t)')\n",
    "plt.show()"
   ]
  },
  {
   "cell_type": "markdown",
   "metadata": {
    "id": "k7xBecRhTRie"
   },
   "source": [
    "Con el modelo SIR se define la constante \n",
    "$R_0=\\frac{\\beta}{\\gamma}$\n",
    "que representa el número de personas que cada contagiado infecta. Para que la enfermedad analizada logre dispararse en forma de una epidemia debe cumplirse que $R_0 > 1$. \n",
    "\n",
    "También se define \n",
    "$R_{eff}=R_0\\frac{S}{N}$\n",
    "que corresponde al número promedio de personas que cada contagiado infecta. Este segundo valor $R_{eff}$ toma en cuenta de que durante la evolución de la pandemia, al aumentar del número de personas inmunes en la población cada persona contagiada infectará a un número de personas cada vez menor.\n",
    "\n",
    "\n",
    "\n",
    "## Pregunta 1\n",
    "\n",
    "Haga cambios en el modelo para tomar en cuenta el hecho de que la población no es constante:\n",
    "\n",
    "* agregar un término de incremento en $dS$ para tomar en cuenta los individuos nacidos $+bN$\n",
    "\n",
    "* agregar un término de decremento en $dS$ para tomar en cuenta las personas susceptibles que mueren -$\\mu S$\n",
    "\n",
    "* agregar un término de decremento en $dI$ para tomar en cuenta las personas infectadas que mueren -$\\mu I$\n",
    "\n",
    "* agregar un término de decremento en $dR$ para tomar en cuenta las personas recuperadas que fallecen $-\\mu R$\n",
    "\n",
    "Usar ahora los parámetros\n",
    "\n",
    "\\begin{aligned}\n",
    "\\beta  &=  0.4 days^{-1} &= (0.4 \\times 365) years^{-1}\\\\\n",
    "\\gamma &=  0.2 days^{-1} &= (0.2 \\times 365) years^{-1}\\\\\n",
    "\\mu    &=  \\frac{1}{70}years^{-1}\\\\\n",
    "b     &=  \\frac{1}{70}years^{-1}\\\\\n",
    "\\end{aligned}\n",
    "\n",
    "y considerar una duración de 1 año."
   ]
  },
  {
   "cell_type": "code",
   "execution_count": 2,
   "metadata": {
    "id": "DwC9lY0-k9QS"
   },
   "outputs": [
    {
     "data": {
      "image/png": "[encoded data removed]",
      "text/plain": [
       "<Figure size 432x288 with 1 Axes>"
      ]
     },
     "metadata": {
      "needs_background": "light"
     },
     "output_type": "display_data"
    }
   ],
   "source": [
    "import numpy as np\n",
    "from scipy.integrate import odeint\n",
    "import matplotlib.pyplot as plt\n",
    "\n",
    "beta = 0.4 * 365\n",
    "gamma = 0.2 * 365\n",
    "b = 1/70\n",
    "mu = 1/70\n",
    "\n",
    "#S = 999999\n",
    "#I= 1\n",
    "#R=0\n",
    "\n",
    "# function that returns dy/dt\n",
    "def model(y,t,beta,gamma,b,mu):\n",
    "    \n",
    "    S, I, R = y\n",
    "    N = S+I+R \n",
    "    lamb = beta * I/N\n",
    "    dS = -lamb * S + b * N - mu * S           \n",
    "    dI = lamb * S - gamma * I - mu * I\n",
    "    dR = gamma * I - mu * R\n",
    "    \n",
    "    return dS,dI,dR\n",
    "\n",
    "# initial condition\n",
    "y0 =  np.array([999999, 1, 0])  #S=999999, I = 1, R=0 \n",
    "\n",
    "# time points\n",
    "t = np.linspace(0,1)\n",
    "\n",
    "# solve ODE\n",
    "y = odeint(model,y0,t,args=(beta, gamma, b, mu))\n",
    "\n",
    "# plot results\n",
    "plt.plot(t,y.T[0],color='red')\n",
    "plt.plot(t,y.T[1],color='green')\n",
    "plt.plot(t,y.T[2],color='blue')\n",
    "\n",
    "plt.xlabel('time')\n",
    "plt.ylabel('y(t)')\n",
    "plt.show()"
   ]
  },
  {
   "cell_type": "markdown",
   "metadata": {},
   "source": [
    "## Pregunta 2\n",
    "\n",
    "Considerando el modelo SIR básico, haga cambios para tomar en cuenta un programa de vacunación. Suponga que una fracción $v$ de susceptibles se vacuna de manera que queda inmune (y entra ahora directamente en el conjunto de los recuperados). Calcule la dinámica de la epidemia en este caso usando los parámetros $\\beta=0.4$, $\\gamma=0.1$ y considere un periodo de 2 años.\n",
    "\n",
    "Su modelo debe ser capaz de mostrar que si la fracción $v$ es suficiente, no es necesario vacunar a todos los suceptibles para evitar la epidemia. A este efecto se le conoce como *inmunidad de rebaño* y se refiere a que si un sector grande de la población es inmune, entonces los contagios se mantienen a un nivel en el que la enfermedad es eliminada.\n",
    "\n",
    "¿Cómo se puede calcular la fracción mínima $v$ de personas que se deben vacunar para poder evitar una epidemia? La inmunidad de rebaño ocurre cuando $R_{eff}< 1$. "
   ]
  },
  {
   "cell_type": "code",
   "execution_count": 3,
   "metadata": {},
   "outputs": [
    {
     "data": {
      "image/png": "[encoded data removed]",
      "text/plain": [
       "<Figure size 432x288 with 1 Axes>"
      ]
     },
     "metadata": {
      "needs_background": "light"
     },
     "output_type": "display_data"
    }
   ],
   "source": [
    "beta = 0.4\n",
    "gamma = 0.1\n",
    "delta = 0.01 # Se supone un coeficiente constante de velocidad de vacunación\n",
    "\n",
    "#S = 999999\n",
    "#I= 1\n",
    "#R=0\n",
    "\n",
    "# function that returns dy/dt\n",
    "def model(y,t,beta,gamma):\n",
    "    \n",
    "    S, I, R = y\n",
    "    N = S+I+R\n",
    "    V = S * delta\n",
    "    \n",
    "    lamb = beta * I/N\n",
    "    dS = -lamb * S - V \n",
    "    dI = lamb * S - gamma * I   \n",
    "    dR = gamma * I + V\n",
    "    \n",
    "    return dS,dI,dR\n",
    "\n",
    "# initial condition\n",
    "y0 =  np.array([999999, 1, 0])  #S=999999, I = 1, R=0 \n",
    "\n",
    "# time points\n",
    "t = np.linspace(0,365*2)\n",
    "\n",
    "# solve ODE\n",
    "y = odeint(model,y0,t,args=(beta, gamma))\n",
    "\n",
    "# plot results\n",
    "plt.plot(t,y.T[0],color='red')\n",
    "plt.plot(t,y.T[1],color='green')\n",
    "plt.plot(t,y.T[2],color='blue')\n",
    "\n",
    "plt.xlabel('time')\n",
    "plt.ylabel('y(t)')\n",
    "plt.show()"
   ]
  },
  {
   "cell_type": "markdown",
   "metadata": {},
   "source": [
    "$R_{eff}=R_0\\frac{S}{N}< 1$   para inmunidad de rebaño\n",
    "\n",
    "$R_0<\\frac{N}{S}$   con $R_0>1$ al haber una pandemia y con $N$ constante\n",
    "\n",
    "con $\\beta=0.4$, $\\gamma=0.1$\n",
    "\n",
    "$R_0=\\frac{\\beta}{\\gamma}=\\frac{0.4}{0.1}=4$\n",
    "\n",
    "entonces $\\frac{N}{S}>4$  \n",
    "\n",
    "$S<\\frac{N}{4}$  para llegar a la inmunidad de rebaño\n",
    "\n",
    "$N-\\frac{N}{4}=\\frac{3N}{4}$ Deben de estar vacunadas"
   ]
  },
  {
   "cell_type": "code",
   "execution_count": 4,
   "metadata": {},
   "outputs": [
    {
     "data": {
      "image/png": "[encoded data removed]",
      "text/plain": [
       "<Figure size 432x288 with 1 Axes>"
      ]
     },
     "metadata": {
      "needs_background": "light"
     },
     "output_type": "display_data"
    }
   ],
   "source": [
    "beta = 0.4\n",
    "gamma = 0.1\n",
    "\n",
    "#S = 999999\n",
    "#I= 1\n",
    "#R=0\n",
    "\n",
    "# function that returns dy/dt\n",
    "def model(y,t,beta,gamma):\n",
    "    \n",
    "    S, I, R = y\n",
    "    N = S+I+R\n",
    "    V = 300\n",
    "    \n",
    "    lamb = beta * I/N\n",
    "    dS = -lamb * S - V \n",
    "    dI = lamb * S - gamma * I   \n",
    "    dR = gamma * I + V\n",
    "    \n",
    "    return dS,dI,dR\n",
    "\n",
    "# initial condition\n",
    "y0 =  np.array([999999, 1, 0])  #S=999999, I = 1, R=0 \n",
    "\n",
    "# time points\n",
    "t = np.linspace(0,365*2)\n",
    "\n",
    "# solve ODE\n",
    "y = odeint(model,y0,t,args=(beta, gamma))\n",
    "\n",
    "# plot results\n",
    "plt.plot(t,y.T[0],color='red')\n",
    "plt.plot(t,y.T[1],color='green')\n",
    "plt.plot(t,y.T[2],color='blue')\n",
    "\n",
    "plt.xlabel('time')\n",
    "plt.ylabel('y(t)')\n",
    "plt.show()"
   ]
  },
  {
   "cell_type": "markdown",
   "metadata": {},
   "source": [
    "## Pregunta 3\n",
    "\n",
    "Haga cambios en el modelo para tomar en cuenta de que la población no es constante:\n",
    "\n",
    "* agregar un término de incremento en $dS$ para tomar en cuenta los nacidos $+bN$\n",
    "\n",
    "* agregar un término de decremento en $dS$ para tomar en cuenta las personas susceptibles que mueren -$\\mu S$\n",
    "\n",
    "* agregar un término de decremento en $dI$ para tomar en cuenta las personas infectadas que mueren -$\\mu I$\n",
    "\n",
    "* agregar un término de decremento en $dR$ para tomar en cuenta las personas recuperadas que fallecen $-\\mu R$\n",
    "\n",
    "Use los parámetros\n",
    "\n",
    "\\begin{aligned}\n",
    "\\beta  &=  0.4 days^{-1} &= (0.4 \\times 365) years^{-1}\\\\\n",
    "\\gamma &=  0.2 days^{-1} &= (0.2 \\times 365) years^{-1}\\\\\n",
    "\\mu    &=  \\frac{1}{70}years^{-1}\\\\\n",
    "b     &=  \\frac{1}{70}years^{-1}\\\\\n",
    "\\end{aligned}\n",
    "\n",
    "y considere una duración de 400 años en sus cálculos."
   ]
  },
  {
   "cell_type": "code",
   "execution_count": 5,
   "metadata": {},
   "outputs": [
    {
     "data": {
      "image/png": "[encoded data removed]",
      "text/plain": [
       "<Figure size 432x288 with 1 Axes>"
      ]
     },
     "metadata": {
      "needs_background": "light"
     },
     "output_type": "display_data"
    }
   ],
   "source": [
    "beta = 0.4 * 365\n",
    "gamma = 0.2 * 365\n",
    "b = 1/70\n",
    "mu = 1/70\n",
    "\n",
    "#S = 999999\n",
    "#I= 1\n",
    "#R=0\n",
    "\n",
    "# function that returns dy/dt\n",
    "def model(y,t,beta,gamma,b,mu):\n",
    "    \n",
    "    S, I, R = y\n",
    "    N = S+I+R \n",
    "    lamb = beta * I/N\n",
    "    dS = -lamb * S + b * N - mu * S           \n",
    "    dI = lamb * S - gamma * I - mu * I\n",
    "    dR = gamma * I - mu * R\n",
    "    \n",
    "    return dS,dI,dR\n",
    "\n",
    "# initial condition\n",
    "y0 =  np.array([999999, 1, 0])  #S=999999, I = 1, R=0 \n",
    "\n",
    "# time points\n",
    "t = np.linspace(0,40)\n",
    "\n",
    "# solve ODE\n",
    "y = odeint(model,y0,t,args=(beta, gamma, b, mu))\n",
    "\n",
    "# plot results\n",
    "plt.plot(t,y.T[0],color='red')\n",
    "plt.plot(t,y.T[1],color='green')\n",
    "plt.plot(t,y.T[2],color='blue')\n",
    "\n",
    "plt.xlabel('time')\n",
    "plt.ylabel('y(t)')\n",
    "plt.show()"
   ]
  },
  {
   "cell_type": "markdown",
   "metadata": {},
   "source": [
    "## Pregunta 4\n",
    "\n",
    "Considerando el modelo SIR básico, haga cambios para tomar en cuenta un programa de vacunación. Suponga que una fracción $v$ de susceptibles se vacuna de manera que queda inmune (y entra ahora directamente en el conjunto de los recuperados), mientras que la fracción $(1-v)$ sigue siendo susceptible. \n",
    "\n",
    "Calcule la dinámica de la epidemia en este caso, estudiando cómo cambia la dinámica variando la fracción $v$. Utilice $\\beta=0.6$, $\\gamma=0.1$ y considere un periodo de 2 años.\n",
    "\n",
    "Su modelo debe ser capaz de mostrar que si la fracción $v$ es suficiente, no es necesario vacunar a todos los suceptibles para evitar la epidemia. A este efecto se le conoce como *inmunidad de rebaño* y se refiere a que si un sector grande de la población es inmune, entonces los contagios se mantienen a un nivel en el que la enfermedad es eliminada.\n",
    "\n",
    "¿Cómo se puede calcular la fracción mínima $v$ de personas que se deben vacunar para poder evitar una epidemia? La inmunidad de rebaño ocurre cuando $R_{eff}< 1$. "
   ]
  },
  {
   "cell_type": "code",
   "execution_count": 6,
   "metadata": {},
   "outputs": [
    {
     "data": {
      "image/png": "[encoded data removed]",
      "text/plain": [
       "<Figure size 432x288 with 1 Axes>"
      ]
     },
     "metadata": {
      "needs_background": "light"
     },
     "output_type": "display_data"
    }
   ],
   "source": [
    "beta = 0.6\n",
    "gamma = 0.1\n",
    "delta = 0.01 # Se supone un coeficiente constante de velocidad de vacunación\n",
    "\n",
    "#S = 999999\n",
    "#I= 1\n",
    "#R=0\n",
    "\n",
    "# function that returns dy/dt\n",
    "def model(y,t,beta,gamma):\n",
    "    \n",
    "    S, I, R = y\n",
    "    N = S+I+R\n",
    "    V = S * delta\n",
    "    \n",
    "    lamb = beta * I/N\n",
    "    dS = -lamb * S - V \n",
    "    dI = lamb * S - gamma * I   \n",
    "    dR = gamma * I + V\n",
    "    \n",
    "    return dS,dI,dR\n",
    "\n",
    "# initial condition\n",
    "y0 =  np.array([999999, 1, 0])  #S=999999, I = 1, R=0 \n",
    "\n",
    "# time points\n",
    "t = np.linspace(0,365*2)\n",
    "\n",
    "# solve ODE\n",
    "y = odeint(model,y0,t,args=(beta, gamma))\n",
    "\n",
    "# plot results\n",
    "plt.plot(t,y.T[0],color='red')\n",
    "plt.plot(t,y.T[1],color='green')\n",
    "plt.plot(t,y.T[2],color='blue')\n",
    "\n",
    "plt.xlabel('time')\n",
    "plt.ylabel('y(t)')\n",
    "plt.show()"
   ]
  },
  {
   "cell_type": "markdown",
   "metadata": {},
   "source": [
    "$R_{eff}=R_0\\frac{S}{N}< 1$   para inmunidad de rebaño\n",
    "\n",
    "$R_0<\\frac{N}{S}$   con $R_0>1$ al haber una pandemia y con $N$ constante\n",
    "\n",
    "con $\\beta=0.6$, $\\gamma=0.1$\n",
    "\n",
    "$R_0=\\frac{\\beta}{\\gamma}=\\frac{0.6}{0.1}=6$\n",
    "\n",
    "entonces $\\frac{N}{S}>6$  \n",
    "\n",
    "$S<\\frac{N}{6}$  al llegar a la inmunidad de rebaño\n",
    "\n",
    "$N-\\frac{N}{6}=\\frac{5N}{6}$ Deben de estar vacunadas"
   ]
  }
 ],
 "metadata": {
  "colab": {
   "collapsed_sections": [],
   "name": "SimuRetoContagios_parte2.ipynb",
   "provenance": []
  },
  "kernelspec": {
   "display_name": "Python 3",
   "language": "python",
   "name": "python3"
  },
  "language_info": {
   "codemirror_mode": {
    "name": "ipython",
    "version": 3
   },
   "file_extension": ".py",
   "mimetype": "text/x-python",
   "name": "python",
   "nbconvert_exporter": "python",
   "pygments_lexer": "ipython3",
   "version": "3.8.5"
  }
 },
 "nbformat": 4,
 "nbformat_minor": 1
}
